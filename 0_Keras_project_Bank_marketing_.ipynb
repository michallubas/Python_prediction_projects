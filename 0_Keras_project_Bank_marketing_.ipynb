{
  "nbformat": 4,
  "nbformat_minor": 0,
  "metadata": {
    "colab": {
      "name": "0. Keras project - Bank marketing .ipynb",
      "provenance": [],
      "collapsed_sections": []
    },
    "kernelspec": {
      "name": "python3",
      "display_name": "Python 3"
    }
  },
  "cells": [
    {
      "cell_type": "markdown",
      "metadata": {
        "id": "aoGd82m0GK0N",
        "colab_type": "text"
      },
      "source": [
        "The data is related with direct marketing campaigns of a Portuguese banking institution. The marketing campaigns were based on phone calls. Often, more than one contact to the same client was required, in order to access if the product (bank term deposit) would be ('yes') or not ('no') subscribed.\n",
        "\n",
        "The classification goal is to predict if the client will subscribe (yes/no) a term deposit (variable y, last column)."
      ]
    },
    {
      "cell_type": "markdown",
      "metadata": {
        "id": "hJf8eLrcctrY",
        "colab_type": "text"
      },
      "source": [
        "# Start code: Loading the data and other imports\n",
        "\n"
      ]
    },
    {
      "cell_type": "code",
      "metadata": {
        "id": "FgLVB-69VjaH",
        "colab_type": "code",
        "colab": {
          "base_uri": "https://localhost:8080/",
          "height": 72
        },
        "outputId": "2cf81071-86d5-4bb4-e626-b56ad3609b23"
      },
      "source": [
        "import pandas as pd\n",
        "import numpy as np\n",
        "import seaborn as sns\n",
        "import matplotlib.pyplot as plt"
      ],
      "execution_count": 1,
      "outputs": [
        {
          "output_type": "stream",
          "text": [
            "/usr/local/lib/python3.6/dist-packages/statsmodels/tools/_testing.py:19: FutureWarning: pandas.util.testing is deprecated. Use the functions in the public API at pandas.testing instead.\n",
            "  import pandas.util.testing as tm\n"
          ],
          "name": "stderr"
        }
      ]
    },
    {
      "cell_type": "code",
      "metadata": {
        "id": "KMKiD48Idmnj",
        "colab_type": "code",
        "colab": {}
      },
      "source": [
        "df = pd.read_csv('bank-additional-full.csv',sep=';')"
      ],
      "execution_count": 2,
      "outputs": []
    },
    {
      "cell_type": "code",
      "metadata": {
        "id": "O_Xz6yyXdmqL",
        "colab_type": "code",
        "colab": {
          "base_uri": "https://localhost:8080/",
          "height": 419
        },
        "outputId": "91b56b21-af40-41c6-ae5f-ce031849e383"
      },
      "source": [
        "df"
      ],
      "execution_count": 3,
      "outputs": [
        {
          "output_type": "execute_result",
          "data": {
            "text/html": [
              "<div>\n",
              "<style scoped>\n",
              "    .dataframe tbody tr th:only-of-type {\n",
              "        vertical-align: middle;\n",
              "    }\n",
              "\n",
              "    .dataframe tbody tr th {\n",
              "        vertical-align: top;\n",
              "    }\n",
              "\n",
              "    .dataframe thead th {\n",
              "        text-align: right;\n",
              "    }\n",
              "</style>\n",
              "<table border=\"1\" class=\"dataframe\">\n",
              "  <thead>\n",
              "    <tr style=\"text-align: right;\">\n",
              "      <th></th>\n",
              "      <th>age</th>\n",
              "      <th>job</th>\n",
              "      <th>marital</th>\n",
              "      <th>education</th>\n",
              "      <th>default</th>\n",
              "      <th>housing</th>\n",
              "      <th>loan</th>\n",
              "      <th>contact</th>\n",
              "      <th>month</th>\n",
              "      <th>day_of_week</th>\n",
              "      <th>duration</th>\n",
              "      <th>campaign</th>\n",
              "      <th>pdays</th>\n",
              "      <th>previous</th>\n",
              "      <th>poutcome</th>\n",
              "      <th>emp.var.rate</th>\n",
              "      <th>cons.price.idx</th>\n",
              "      <th>cons.conf.idx</th>\n",
              "      <th>euribor3m</th>\n",
              "      <th>nr.employed</th>\n",
              "      <th>y</th>\n",
              "    </tr>\n",
              "  </thead>\n",
              "  <tbody>\n",
              "    <tr>\n",
              "      <th>0</th>\n",
              "      <td>56</td>\n",
              "      <td>housemaid</td>\n",
              "      <td>married</td>\n",
              "      <td>basic.4y</td>\n",
              "      <td>no</td>\n",
              "      <td>no</td>\n",
              "      <td>no</td>\n",
              "      <td>telephone</td>\n",
              "      <td>may</td>\n",
              "      <td>mon</td>\n",
              "      <td>261</td>\n",
              "      <td>1</td>\n",
              "      <td>999</td>\n",
              "      <td>0</td>\n",
              "      <td>nonexistent</td>\n",
              "      <td>1.1</td>\n",
              "      <td>93.994</td>\n",
              "      <td>-36.4</td>\n",
              "      <td>4.857</td>\n",
              "      <td>5191.0</td>\n",
              "      <td>no</td>\n",
              "    </tr>\n",
              "    <tr>\n",
              "      <th>1</th>\n",
              "      <td>57</td>\n",
              "      <td>services</td>\n",
              "      <td>married</td>\n",
              "      <td>high.school</td>\n",
              "      <td>unknown</td>\n",
              "      <td>no</td>\n",
              "      <td>no</td>\n",
              "      <td>telephone</td>\n",
              "      <td>may</td>\n",
              "      <td>mon</td>\n",
              "      <td>149</td>\n",
              "      <td>1</td>\n",
              "      <td>999</td>\n",
              "      <td>0</td>\n",
              "      <td>nonexistent</td>\n",
              "      <td>1.1</td>\n",
              "      <td>93.994</td>\n",
              "      <td>-36.4</td>\n",
              "      <td>4.857</td>\n",
              "      <td>5191.0</td>\n",
              "      <td>no</td>\n",
              "    </tr>\n",
              "    <tr>\n",
              "      <th>2</th>\n",
              "      <td>37</td>\n",
              "      <td>services</td>\n",
              "      <td>married</td>\n",
              "      <td>high.school</td>\n",
              "      <td>no</td>\n",
              "      <td>yes</td>\n",
              "      <td>no</td>\n",
              "      <td>telephone</td>\n",
              "      <td>may</td>\n",
              "      <td>mon</td>\n",
              "      <td>226</td>\n",
              "      <td>1</td>\n",
              "      <td>999</td>\n",
              "      <td>0</td>\n",
              "      <td>nonexistent</td>\n",
              "      <td>1.1</td>\n",
              "      <td>93.994</td>\n",
              "      <td>-36.4</td>\n",
              "      <td>4.857</td>\n",
              "      <td>5191.0</td>\n",
              "      <td>no</td>\n",
              "    </tr>\n",
              "    <tr>\n",
              "      <th>3</th>\n",
              "      <td>40</td>\n",
              "      <td>admin.</td>\n",
              "      <td>married</td>\n",
              "      <td>basic.6y</td>\n",
              "      <td>no</td>\n",
              "      <td>no</td>\n",
              "      <td>no</td>\n",
              "      <td>telephone</td>\n",
              "      <td>may</td>\n",
              "      <td>mon</td>\n",
              "      <td>151</td>\n",
              "      <td>1</td>\n",
              "      <td>999</td>\n",
              "      <td>0</td>\n",
              "      <td>nonexistent</td>\n",
              "      <td>1.1</td>\n",
              "      <td>93.994</td>\n",
              "      <td>-36.4</td>\n",
              "      <td>4.857</td>\n",
              "      <td>5191.0</td>\n",
              "      <td>no</td>\n",
              "    </tr>\n",
              "    <tr>\n",
              "      <th>4</th>\n",
              "      <td>56</td>\n",
              "      <td>services</td>\n",
              "      <td>married</td>\n",
              "      <td>high.school</td>\n",
              "      <td>no</td>\n",
              "      <td>no</td>\n",
              "      <td>yes</td>\n",
              "      <td>telephone</td>\n",
              "      <td>may</td>\n",
              "      <td>mon</td>\n",
              "      <td>307</td>\n",
              "      <td>1</td>\n",
              "      <td>999</td>\n",
              "      <td>0</td>\n",
              "      <td>nonexistent</td>\n",
              "      <td>1.1</td>\n",
              "      <td>93.994</td>\n",
              "      <td>-36.4</td>\n",
              "      <td>4.857</td>\n",
              "      <td>5191.0</td>\n",
              "      <td>no</td>\n",
              "    </tr>\n",
              "    <tr>\n",
              "      <th>...</th>\n",
              "      <td>...</td>\n",
              "      <td>...</td>\n",
              "      <td>...</td>\n",
              "      <td>...</td>\n",
              "      <td>...</td>\n",
              "      <td>...</td>\n",
              "      <td>...</td>\n",
              "      <td>...</td>\n",
              "      <td>...</td>\n",
              "      <td>...</td>\n",
              "      <td>...</td>\n",
              "      <td>...</td>\n",
              "      <td>...</td>\n",
              "      <td>...</td>\n",
              "      <td>...</td>\n",
              "      <td>...</td>\n",
              "      <td>...</td>\n",
              "      <td>...</td>\n",
              "      <td>...</td>\n",
              "      <td>...</td>\n",
              "      <td>...</td>\n",
              "    </tr>\n",
              "    <tr>\n",
              "      <th>41183</th>\n",
              "      <td>73</td>\n",
              "      <td>retired</td>\n",
              "      <td>married</td>\n",
              "      <td>professional.course</td>\n",
              "      <td>no</td>\n",
              "      <td>yes</td>\n",
              "      <td>no</td>\n",
              "      <td>cellular</td>\n",
              "      <td>nov</td>\n",
              "      <td>fri</td>\n",
              "      <td>334</td>\n",
              "      <td>1</td>\n",
              "      <td>999</td>\n",
              "      <td>0</td>\n",
              "      <td>nonexistent</td>\n",
              "      <td>-1.1</td>\n",
              "      <td>94.767</td>\n",
              "      <td>-50.8</td>\n",
              "      <td>1.028</td>\n",
              "      <td>4963.6</td>\n",
              "      <td>yes</td>\n",
              "    </tr>\n",
              "    <tr>\n",
              "      <th>41184</th>\n",
              "      <td>46</td>\n",
              "      <td>blue-collar</td>\n",
              "      <td>married</td>\n",
              "      <td>professional.course</td>\n",
              "      <td>no</td>\n",
              "      <td>no</td>\n",
              "      <td>no</td>\n",
              "      <td>cellular</td>\n",
              "      <td>nov</td>\n",
              "      <td>fri</td>\n",
              "      <td>383</td>\n",
              "      <td>1</td>\n",
              "      <td>999</td>\n",
              "      <td>0</td>\n",
              "      <td>nonexistent</td>\n",
              "      <td>-1.1</td>\n",
              "      <td>94.767</td>\n",
              "      <td>-50.8</td>\n",
              "      <td>1.028</td>\n",
              "      <td>4963.6</td>\n",
              "      <td>no</td>\n",
              "    </tr>\n",
              "    <tr>\n",
              "      <th>41185</th>\n",
              "      <td>56</td>\n",
              "      <td>retired</td>\n",
              "      <td>married</td>\n",
              "      <td>university.degree</td>\n",
              "      <td>no</td>\n",
              "      <td>yes</td>\n",
              "      <td>no</td>\n",
              "      <td>cellular</td>\n",
              "      <td>nov</td>\n",
              "      <td>fri</td>\n",
              "      <td>189</td>\n",
              "      <td>2</td>\n",
              "      <td>999</td>\n",
              "      <td>0</td>\n",
              "      <td>nonexistent</td>\n",
              "      <td>-1.1</td>\n",
              "      <td>94.767</td>\n",
              "      <td>-50.8</td>\n",
              "      <td>1.028</td>\n",
              "      <td>4963.6</td>\n",
              "      <td>no</td>\n",
              "    </tr>\n",
              "    <tr>\n",
              "      <th>41186</th>\n",
              "      <td>44</td>\n",
              "      <td>technician</td>\n",
              "      <td>married</td>\n",
              "      <td>professional.course</td>\n",
              "      <td>no</td>\n",
              "      <td>no</td>\n",
              "      <td>no</td>\n",
              "      <td>cellular</td>\n",
              "      <td>nov</td>\n",
              "      <td>fri</td>\n",
              "      <td>442</td>\n",
              "      <td>1</td>\n",
              "      <td>999</td>\n",
              "      <td>0</td>\n",
              "      <td>nonexistent</td>\n",
              "      <td>-1.1</td>\n",
              "      <td>94.767</td>\n",
              "      <td>-50.8</td>\n",
              "      <td>1.028</td>\n",
              "      <td>4963.6</td>\n",
              "      <td>yes</td>\n",
              "    </tr>\n",
              "    <tr>\n",
              "      <th>41187</th>\n",
              "      <td>74</td>\n",
              "      <td>retired</td>\n",
              "      <td>married</td>\n",
              "      <td>professional.course</td>\n",
              "      <td>no</td>\n",
              "      <td>yes</td>\n",
              "      <td>no</td>\n",
              "      <td>cellular</td>\n",
              "      <td>nov</td>\n",
              "      <td>fri</td>\n",
              "      <td>239</td>\n",
              "      <td>3</td>\n",
              "      <td>999</td>\n",
              "      <td>1</td>\n",
              "      <td>failure</td>\n",
              "      <td>-1.1</td>\n",
              "      <td>94.767</td>\n",
              "      <td>-50.8</td>\n",
              "      <td>1.028</td>\n",
              "      <td>4963.6</td>\n",
              "      <td>no</td>\n",
              "    </tr>\n",
              "  </tbody>\n",
              "</table>\n",
              "<p>41188 rows × 21 columns</p>\n",
              "</div>"
            ],
            "text/plain": [
              "       age          job  marital  ... euribor3m nr.employed    y\n",
              "0       56    housemaid  married  ...     4.857      5191.0   no\n",
              "1       57     services  married  ...     4.857      5191.0   no\n",
              "2       37     services  married  ...     4.857      5191.0   no\n",
              "3       40       admin.  married  ...     4.857      5191.0   no\n",
              "4       56     services  married  ...     4.857      5191.0   no\n",
              "...    ...          ...      ...  ...       ...         ...  ...\n",
              "41183   73      retired  married  ...     1.028      4963.6  yes\n",
              "41184   46  blue-collar  married  ...     1.028      4963.6   no\n",
              "41185   56      retired  married  ...     1.028      4963.6   no\n",
              "41186   44   technician  married  ...     1.028      4963.6  yes\n",
              "41187   74      retired  married  ...     1.028      4963.6   no\n",
              "\n",
              "[41188 rows x 21 columns]"
            ]
          },
          "metadata": {
            "tags": []
          },
          "execution_count": 3
        }
      ]
    },
    {
      "cell_type": "code",
      "metadata": {
        "id": "DltM1yv6dmsu",
        "colab_type": "code",
        "colab": {
          "base_uri": "https://localhost:8080/",
          "height": 35
        },
        "outputId": "ec186f74-0aa3-4b3a-eba2-b7b62e738e71"
      },
      "source": [
        "len(df)"
      ],
      "execution_count": null,
      "outputs": [
        {
          "output_type": "execute_result",
          "data": {
            "text/plain": [
              "41188"
            ]
          },
          "metadata": {
            "tags": []
          },
          "execution_count": 6
        }
      ]
    },
    {
      "cell_type": "markdown",
      "metadata": {
        "id": "wf1yn3yjd5zp",
        "colab_type": "text"
      },
      "source": [
        "Checking for null values and first correlations in data frame"
      ]
    },
    {
      "cell_type": "code",
      "metadata": {
        "id": "CS_ZIyxzdm1O",
        "colab_type": "code",
        "colab": {
          "base_uri": "https://localhost:8080/",
          "height": 408
        },
        "outputId": "8491df71-2119-482d-d382-be9f97e0803a"
      },
      "source": [
        "df.isnull().sum()"
      ],
      "execution_count": null,
      "outputs": [
        {
          "output_type": "execute_result",
          "data": {
            "text/plain": [
              "age               0\n",
              "job               0\n",
              "marital           0\n",
              "education         0\n",
              "default           0\n",
              "housing           0\n",
              "loan              0\n",
              "contact           0\n",
              "month             0\n",
              "day_of_week       0\n",
              "duration          0\n",
              "campaign          0\n",
              "pdays             0\n",
              "previous          0\n",
              "poutcome          0\n",
              "emp.var.rate      0\n",
              "cons.price.idx    0\n",
              "cons.conf.idx     0\n",
              "euribor3m         0\n",
              "nr.employed       0\n",
              "y                 0\n",
              "dtype: int64"
            ]
          },
          "metadata": {
            "tags": []
          },
          "execution_count": 7
        }
      ]
    },
    {
      "cell_type": "code",
      "metadata": {
        "id": "BWOdFC7Ddm3b",
        "colab_type": "code",
        "colab": {}
      },
      "source": [
        "df['y'] =  df['y'].map( {'yes': 1 , 'no':0} )"
      ],
      "execution_count": 4,
      "outputs": []
    },
    {
      "cell_type": "code",
      "metadata": {
        "id": "JObbH2WXdm8W",
        "colab_type": "code",
        "colab": {
          "base_uri": "https://localhost:8080/",
          "height": 230
        },
        "outputId": "17d2f79f-6aef-47bd-aff5-5f353bbabd2e"
      },
      "source": [
        "df.corr()['y'].sort_values(ascending=False)"
      ],
      "execution_count": 5,
      "outputs": [
        {
          "output_type": "execute_result",
          "data": {
            "text/plain": [
              "y                 1.000000\n",
              "duration          0.405274\n",
              "previous          0.230181\n",
              "cons.conf.idx     0.054878\n",
              "age               0.030399\n",
              "campaign         -0.066357\n",
              "cons.price.idx   -0.136211\n",
              "emp.var.rate     -0.298334\n",
              "euribor3m        -0.307771\n",
              "pdays            -0.324914\n",
              "nr.employed      -0.354678\n",
              "Name: y, dtype: float64"
            ]
          },
          "metadata": {
            "tags": []
          },
          "execution_count": 5
        }
      ]
    },
    {
      "cell_type": "code",
      "metadata": {
        "id": "bqTHnYJpdnBl",
        "colab_type": "code",
        "colab": {}
      },
      "source": [
        "df_names = pd.read_csv('names.csv', names=['id', 'name', 'description'])"
      ],
      "execution_count": 6,
      "outputs": []
    },
    {
      "cell_type": "code",
      "metadata": {
        "id": "l9BvqfSkdnEL",
        "colab_type": "code",
        "colab": {
          "base_uri": "https://localhost:8080/",
          "height": 164
        },
        "outputId": "c631221d-3faf-4e0a-fb07-d5cf73c1abb4"
      },
      "source": [
        "df_names.head(4)"
      ],
      "execution_count": 7,
      "outputs": [
        {
          "output_type": "execute_result",
          "data": {
            "text/html": [
              "<div>\n",
              "<style scoped>\n",
              "    .dataframe tbody tr th:only-of-type {\n",
              "        vertical-align: middle;\n",
              "    }\n",
              "\n",
              "    .dataframe tbody tr th {\n",
              "        vertical-align: top;\n",
              "    }\n",
              "\n",
              "    .dataframe thead th {\n",
              "        text-align: right;\n",
              "    }\n",
              "</style>\n",
              "<table border=\"1\" class=\"dataframe\">\n",
              "  <thead>\n",
              "    <tr style=\"text-align: right;\">\n",
              "      <th></th>\n",
              "      <th>id</th>\n",
              "      <th>name</th>\n",
              "      <th>description</th>\n",
              "    </tr>\n",
              "  </thead>\n",
              "  <tbody>\n",
              "    <tr>\n",
              "      <th>0</th>\n",
              "      <td>1</td>\n",
              "      <td>age</td>\n",
              "      <td>- age (numeric)</td>\n",
              "    </tr>\n",
              "    <tr>\n",
              "      <th>1</th>\n",
              "      <td>2</td>\n",
              "      <td>job</td>\n",
              "      <td>- job : type of job (categorical: \"admin.\",\"b...</td>\n",
              "    </tr>\n",
              "    <tr>\n",
              "      <th>2</th>\n",
              "      <td>3</td>\n",
              "      <td>marital</td>\n",
              "      <td>- marital : marital status (categorical: \"divo...</td>\n",
              "    </tr>\n",
              "    <tr>\n",
              "      <th>3</th>\n",
              "      <td>4</td>\n",
              "      <td>education</td>\n",
              "      <td>- education (categorical: \"basic.4y\",\"basic.6y...</td>\n",
              "    </tr>\n",
              "  </tbody>\n",
              "</table>\n",
              "</div>"
            ],
            "text/plain": [
              "   id       name                                        description\n",
              "0   1        age                                    - age (numeric)\n",
              "1   2       job    - job : type of job (categorical: \"admin.\",\"b...\n",
              "2   3   marital   - marital : marital status (categorical: \"divo...\n",
              "3   4  education  - education (categorical: \"basic.4y\",\"basic.6y..."
            ]
          },
          "metadata": {
            "tags": []
          },
          "execution_count": 7
        }
      ]
    },
    {
      "cell_type": "code",
      "metadata": {
        "id": "EPLcqh32dnHa",
        "colab_type": "code",
        "colab": {}
      },
      "source": [
        "def check_feat(name):\n",
        "  i=0\n",
        "  while (i < df_names.count()['name']):\n",
        "    if df_names.loc[i]['name'] == name:\n",
        "      print(df_names.loc[i]['description'])\n",
        "    i=i+1"
      ],
      "execution_count": 8,
      "outputs": []
    },
    {
      "cell_type": "code",
      "metadata": {
        "id": "dzq91M5tdm_b",
        "colab_type": "code",
        "colab": {
          "base_uri": "https://localhost:8080/",
          "height": 55
        },
        "outputId": "09074ff2-25a8-43ca-e3f8-a2074f0a2de0"
      },
      "source": [
        "check_feat('duration')"
      ],
      "execution_count": 9,
      "outputs": [
        {
          "output_type": "stream",
          "text": [
            "- duration: last contact duration, in seconds (numeric). Important note:  this attribute highly affects the output target (e.g., if duration=0 then y=\"no\"). Yet, the duration is not known before a call is performed. Also, after the end of the call y is obviously known. Thus, this input should only be included for benchmark purposes and should be discarded if the intention is to have a realistic predictive model.\n"
          ],
          "name": "stdout"
        }
      ]
    },
    {
      "cell_type": "code",
      "metadata": {
        "id": "KkZWHS8Ydm6N",
        "colab_type": "code",
        "colab": {
          "base_uri": "https://localhost:8080/",
          "height": 35
        },
        "outputId": "6bc1c4d4-0168-4f68-e23f-0da69cd8acb4"
      },
      "source": [
        "check_feat('nr.employed')"
      ],
      "execution_count": 10,
      "outputs": [
        {
          "output_type": "stream",
          "text": [
            "- nr.employed: number of employees - quarterly indicator (numeric)\n"
          ],
          "name": "stdout"
        }
      ]
    },
    {
      "cell_type": "code",
      "metadata": {
        "id": "2FV5Vm-2dmwU",
        "colab_type": "code",
        "colab": {}
      },
      "source": [
        ""
      ],
      "execution_count": null,
      "outputs": []
    },
    {
      "cell_type": "markdown",
      "metadata": {
        "id": "RX5YBSCbeIkI",
        "colab_type": "text"
      },
      "source": [
        "It seems that 'duration' - last contact duration and 'nr.employed' - number of employees are quite good correlated with y - chance that client will subscribe (yes/no) a term deposit.\n",
        "So it's logical that longer conversation with client is a better chance to sell product. Also higher number of employees it's maybe a better situation for seller, tasks are distibuated to bigger team. "
      ]
    },
    {
      "cell_type": "code",
      "metadata": {
        "id": "o8o3QorJeIJG",
        "colab_type": "code",
        "colab": {}
      },
      "source": [
        ""
      ],
      "execution_count": null,
      "outputs": []
    },
    {
      "cell_type": "markdown",
      "metadata": {
        "id": "vr9teW4tc9aZ",
        "colab_type": "text"
      },
      "source": [
        "# Exploratory Data Analysis"
      ]
    },
    {
      "cell_type": "code",
      "metadata": {
        "id": "ayGF0uoHzR_3",
        "colab_type": "code",
        "colab": {
          "base_uri": "https://localhost:8080/",
          "height": 347
        },
        "outputId": "005171a7-bcfa-44d8-f218-d1650c0f4c65"
      },
      "source": [
        "sns.heatmap(df.select_dtypes(['int64','float64']).corr())"
      ],
      "execution_count": null,
      "outputs": [
        {
          "output_type": "execute_result",
          "data": {
            "text/plain": [
              "<matplotlib.axes._subplots.AxesSubplot at 0x7f547badcc50>"
            ]
          },
          "metadata": {
            "tags": []
          },
          "execution_count": 15
        },
        {
          "output_type": "display_data",
          "data": {
            "image/png": "[encoded data removed]",
            "text/plain": [
              "<Figure size 432x288 with 2 Axes>"
            ]
          },
          "metadata": {
            "tags": [],
            "needs_background": "light"
          }
        }
      ]
    },
    {
      "cell_type": "code",
      "metadata": {
        "id": "z0L_j6vJ9cE4",
        "colab_type": "code",
        "colab": {
          "base_uri": "https://localhost:8080/",
          "height": 297
        },
        "outputId": "258929a3-3101-4ffc-eb52-c4d817dc7c8e"
      },
      "source": [
        "sns.countplot(df['y'])"
      ],
      "execution_count": null,
      "outputs": [
        {
          "output_type": "execute_result",
          "data": {
            "text/plain": [
              "<matplotlib.axes._subplots.AxesSubplot at 0x7f723f4d2160>"
            ]
          },
          "metadata": {
            "tags": []
          },
          "execution_count": 78
        },
        {
          "output_type": "display_data",
          "data": {
            "image/png": "[encoded data removed]",
            "text/plain": [
              "<Figure size 432x288 with 1 Axes>"
            ]
          },
          "metadata": {
            "tags": [],
            "needs_background": "light"
          }
        }
      ]
    },
    {
      "cell_type": "code",
      "metadata": {
        "id": "v0zDoFCN9cHi",
        "colab_type": "code",
        "colab": {
          "base_uri": "https://localhost:8080/",
          "height": 35
        },
        "outputId": "09226912-3f12-4c16-fc70-cd6771190a0d"
      },
      "source": [
        "df[df['y'] ==1]['y'].count() / df['y'].count()  * 100\n",
        "# % of subscribed term deposits:"
      ],
      "execution_count": null,
      "outputs": [
        {
          "output_type": "execute_result",
          "data": {
            "text/plain": [
              "11.265417111780131"
            ]
          },
          "metadata": {
            "tags": []
          },
          "execution_count": 84
        }
      ]
    },
    {
      "cell_type": "code",
      "metadata": {
        "id": "EA0NGZELpvZf",
        "colab_type": "code",
        "colab": {
          "base_uri": "https://localhost:8080/",
          "height": 406
        },
        "outputId": "992cd009-e3f4-4d38-82c9-8f22fbfb07d8"
      },
      "source": [
        "plt.figure(figsize=(18,6))\n",
        "sns.distplot(df['age'])"
      ],
      "execution_count": null,
      "outputs": [
        {
          "output_type": "execute_result",
          "data": {
            "text/plain": [
              "<matplotlib.axes._subplots.AxesSubplot at 0x7f723eb7fb38>"
            ]
          },
          "metadata": {
            "tags": []
          },
          "execution_count": 87
        },
        {
          "output_type": "display_data",
          "data": {
            "image/png": "[encoded data removed]",
            "text/plain": [
              "<Figure size 1296x432 with 1 Axes>"
            ]
          },
          "metadata": {
            "tags": [],
            "needs_background": "light"
          }
        }
      ]
    },
    {
      "cell_type": "code",
      "metadata": {
        "id": "0BXPaaTIpvcW",
        "colab_type": "code",
        "colab": {
          "base_uri": "https://localhost:8080/",
          "height": 406
        },
        "outputId": "aaa70740-b940-4864-e004-2d44db584999"
      },
      "source": [
        "plt.figure(figsize=(18,6))\n",
        "sns.countplot(x=df['education'],hue=df['y'],data=df)"
      ],
      "execution_count": null,
      "outputs": [
        {
          "output_type": "execute_result",
          "data": {
            "text/plain": [
              "<matplotlib.axes._subplots.AxesSubplot at 0x7f549f4b1080>"
            ]
          },
          "metadata": {
            "tags": []
          },
          "execution_count": 16
        },
        {
          "output_type": "display_data",
          "data": {
            "image/png": "[encoded data removed]",
            "text/plain": [
              "<Figure size 1296x432 with 1 Axes>"
            ]
          },
          "metadata": {
            "tags": [],
            "needs_background": "light"
          }
        }
      ]
    },
    {
      "cell_type": "code",
      "metadata": {
        "id": "Y9FQQw1Hqopl",
        "colab_type": "code",
        "colab": {
          "base_uri": "https://localhost:8080/",
          "height": 177
        },
        "outputId": "5f23411e-5bef-48bf-e528-8f326b1848b7"
      },
      "source": [
        "((df[ df['y'] ==1 ])['education'].value_counts()  /  df['education'].value_counts()  * 100).sort_values(ascending = False)"
      ],
      "execution_count": null,
      "outputs": [
        {
          "output_type": "execute_result",
          "data": {
            "text/plain": [
              "illiterate             22.222222\n",
              "unknown                14.500289\n",
              "university.degree      13.724523\n",
              "professional.course    11.348465\n",
              "high.school            10.835523\n",
              "basic.4y               10.249042\n",
              "basic.6y                8.202443\n",
              "basic.9y                7.824648\n",
              "Name: education, dtype: float64"
            ]
          },
          "metadata": {
            "tags": []
          },
          "execution_count": 37
        }
      ]
    },
    {
      "cell_type": "code",
      "metadata": {
        "id": "46Cf4vsntlLa",
        "colab_type": "code",
        "colab": {
          "base_uri": "https://localhost:8080/",
          "height": 406
        },
        "outputId": "c9ba304a-f8fc-4c08-8638-f7a7b503f40b"
      },
      "source": [
        "plt.figure(figsize=(18,6))\n",
        "sns.countplot(x=df['marital'],hue=df['y'],data=df)"
      ],
      "execution_count": null,
      "outputs": [
        {
          "output_type": "execute_result",
          "data": {
            "text/plain": [
              "<matplotlib.axes._subplots.AxesSubplot at 0x7f5477cd8cf8>"
            ]
          },
          "metadata": {
            "tags": []
          },
          "execution_count": 38
        },
        {
          "output_type": "display_data",
          "data": {
            "image/png": "[encoded data removed]",
            "text/plain": [
              "<Figure size 1296x432 with 1 Axes>"
            ]
          },
          "metadata": {
            "tags": [],
            "needs_background": "light"
          }
        }
      ]
    },
    {
      "cell_type": "code",
      "metadata": {
        "id": "bGYT5BzmtwMJ",
        "colab_type": "code",
        "colab": {
          "base_uri": "https://localhost:8080/",
          "height": 106
        },
        "outputId": "2d00fd78-2731-4dae-b572-60d6296f0414"
      },
      "source": [
        "((df[ df['y'] ==1 ])['marital'].value_counts()  /  df['marital'].value_counts()  * 100).sort_values(ascending = False)"
      ],
      "execution_count": null,
      "outputs": [
        {
          "output_type": "execute_result",
          "data": {
            "text/plain": [
              "unknown     15.000000\n",
              "single      14.004149\n",
              "divorced    10.320902\n",
              "married     10.157253\n",
              "Name: marital, dtype: float64"
            ]
          },
          "metadata": {
            "tags": []
          },
          "execution_count": 39
        }
      ]
    },
    {
      "cell_type": "markdown",
      "metadata": {
        "id": "QQJ6OZdhtDAR",
        "colab_type": "text"
      },
      "source": [
        "It seems that illiterate people most often subscribe for a term deposit.\n",
        " Nothing special for matrial group."
      ]
    },
    {
      "cell_type": "code",
      "metadata": {
        "id": "m61yUVJasU7r",
        "colab_type": "code",
        "colab": {
          "base_uri": "https://localhost:8080/",
          "height": 177
        },
        "outputId": "32e82dde-46bb-414d-f578-dbb638dcc750"
      },
      "source": [
        "(df[ df['y'] ==0 ])['education'].value_counts()"
      ],
      "execution_count": null,
      "outputs": [
        {
          "output_type": "execute_result",
          "data": {
            "text/plain": [
              "university.degree      10498\n",
              "high.school             8484\n",
              "basic.9y                5572\n",
              "professional.course     4648\n",
              "basic.4y                3748\n",
              "basic.6y                2104\n",
              "unknown                 1480\n",
              "illiterate                14\n",
              "Name: education, dtype: int64"
            ]
          },
          "metadata": {
            "tags": []
          },
          "execution_count": 32
        }
      ]
    },
    {
      "cell_type": "markdown",
      "metadata": {
        "id": "miCfi9AXdF2J",
        "colab_type": "text"
      },
      "source": [
        "# Data PreProcessing"
      ]
    },
    {
      "cell_type": "code",
      "metadata": {
        "id": "N4Jld0gAxWBG",
        "colab_type": "code",
        "colab": {
          "base_uri": "https://localhost:8080/",
          "height": 399
        },
        "outputId": "de181ba6-5f7a-4787-8a78-acd47c82712b"
      },
      "source": [
        "df.select_dtypes(['object'])"
      ],
      "execution_count": null,
      "outputs": [
        {
          "output_type": "execute_result",
          "data": {
            "text/html": [
              "<div>\n",
              "<style scoped>\n",
              "    .dataframe tbody tr th:only-of-type {\n",
              "        vertical-align: middle;\n",
              "    }\n",
              "\n",
              "    .dataframe tbody tr th {\n",
              "        vertical-align: top;\n",
              "    }\n",
              "\n",
              "    .dataframe thead th {\n",
              "        text-align: right;\n",
              "    }\n",
              "</style>\n",
              "<table border=\"1\" class=\"dataframe\">\n",
              "  <thead>\n",
              "    <tr style=\"text-align: right;\">\n",
              "      <th></th>\n",
              "      <th>job</th>\n",
              "      <th>marital</th>\n",
              "      <th>education</th>\n",
              "      <th>default</th>\n",
              "      <th>housing</th>\n",
              "      <th>loan</th>\n",
              "      <th>contact</th>\n",
              "      <th>month</th>\n",
              "      <th>day_of_week</th>\n",
              "      <th>poutcome</th>\n",
              "    </tr>\n",
              "  </thead>\n",
              "  <tbody>\n",
              "    <tr>\n",
              "      <th>0</th>\n",
              "      <td>housemaid</td>\n",
              "      <td>married</td>\n",
              "      <td>basic.4y</td>\n",
              "      <td>no</td>\n",
              "      <td>no</td>\n",
              "      <td>no</td>\n",
              "      <td>telephone</td>\n",
              "      <td>may</td>\n",
              "      <td>mon</td>\n",
              "      <td>nonexistent</td>\n",
              "    </tr>\n",
              "    <tr>\n",
              "      <th>1</th>\n",
              "      <td>services</td>\n",
              "      <td>married</td>\n",
              "      <td>high.school</td>\n",
              "      <td>unknown</td>\n",
              "      <td>no</td>\n",
              "      <td>no</td>\n",
              "      <td>telephone</td>\n",
              "      <td>may</td>\n",
              "      <td>mon</td>\n",
              "      <td>nonexistent</td>\n",
              "    </tr>\n",
              "    <tr>\n",
              "      <th>2</th>\n",
              "      <td>services</td>\n",
              "      <td>married</td>\n",
              "      <td>high.school</td>\n",
              "      <td>no</td>\n",
              "      <td>yes</td>\n",
              "      <td>no</td>\n",
              "      <td>telephone</td>\n",
              "      <td>may</td>\n",
              "      <td>mon</td>\n",
              "      <td>nonexistent</td>\n",
              "    </tr>\n",
              "    <tr>\n",
              "      <th>3</th>\n",
              "      <td>admin.</td>\n",
              "      <td>married</td>\n",
              "      <td>basic.6y</td>\n",
              "      <td>no</td>\n",
              "      <td>no</td>\n",
              "      <td>no</td>\n",
              "      <td>telephone</td>\n",
              "      <td>may</td>\n",
              "      <td>mon</td>\n",
              "      <td>nonexistent</td>\n",
              "    </tr>\n",
              "    <tr>\n",
              "      <th>4</th>\n",
              "      <td>services</td>\n",
              "      <td>married</td>\n",
              "      <td>high.school</td>\n",
              "      <td>no</td>\n",
              "      <td>no</td>\n",
              "      <td>yes</td>\n",
              "      <td>telephone</td>\n",
              "      <td>may</td>\n",
              "      <td>mon</td>\n",
              "      <td>nonexistent</td>\n",
              "    </tr>\n",
              "    <tr>\n",
              "      <th>...</th>\n",
              "      <td>...</td>\n",
              "      <td>...</td>\n",
              "      <td>...</td>\n",
              "      <td>...</td>\n",
              "      <td>...</td>\n",
              "      <td>...</td>\n",
              "      <td>...</td>\n",
              "      <td>...</td>\n",
              "      <td>...</td>\n",
              "      <td>...</td>\n",
              "    </tr>\n",
              "    <tr>\n",
              "      <th>41183</th>\n",
              "      <td>retired</td>\n",
              "      <td>married</td>\n",
              "      <td>professional.course</td>\n",
              "      <td>no</td>\n",
              "      <td>yes</td>\n",
              "      <td>no</td>\n",
              "      <td>cellular</td>\n",
              "      <td>nov</td>\n",
              "      <td>fri</td>\n",
              "      <td>nonexistent</td>\n",
              "    </tr>\n",
              "    <tr>\n",
              "      <th>41184</th>\n",
              "      <td>blue-collar</td>\n",
              "      <td>married</td>\n",
              "      <td>professional.course</td>\n",
              "      <td>no</td>\n",
              "      <td>no</td>\n",
              "      <td>no</td>\n",
              "      <td>cellular</td>\n",
              "      <td>nov</td>\n",
              "      <td>fri</td>\n",
              "      <td>nonexistent</td>\n",
              "    </tr>\n",
              "    <tr>\n",
              "      <th>41185</th>\n",
              "      <td>retired</td>\n",
              "      <td>married</td>\n",
              "      <td>university.degree</td>\n",
              "      <td>no</td>\n",
              "      <td>yes</td>\n",
              "      <td>no</td>\n",
              "      <td>cellular</td>\n",
              "      <td>nov</td>\n",
              "      <td>fri</td>\n",
              "      <td>nonexistent</td>\n",
              "    </tr>\n",
              "    <tr>\n",
              "      <th>41186</th>\n",
              "      <td>technician</td>\n",
              "      <td>married</td>\n",
              "      <td>professional.course</td>\n",
              "      <td>no</td>\n",
              "      <td>no</td>\n",
              "      <td>no</td>\n",
              "      <td>cellular</td>\n",
              "      <td>nov</td>\n",
              "      <td>fri</td>\n",
              "      <td>nonexistent</td>\n",
              "    </tr>\n",
              "    <tr>\n",
              "      <th>41187</th>\n",
              "      <td>retired</td>\n",
              "      <td>married</td>\n",
              "      <td>professional.course</td>\n",
              "      <td>no</td>\n",
              "      <td>yes</td>\n",
              "      <td>no</td>\n",
              "      <td>cellular</td>\n",
              "      <td>nov</td>\n",
              "      <td>fri</td>\n",
              "      <td>failure</td>\n",
              "    </tr>\n",
              "  </tbody>\n",
              "</table>\n",
              "<p>41188 rows × 10 columns</p>\n",
              "</div>"
            ],
            "text/plain": [
              "               job  marital            education  ... month day_of_week     poutcome\n",
              "0        housemaid  married             basic.4y  ...   may         mon  nonexistent\n",
              "1         services  married          high.school  ...   may         mon  nonexistent\n",
              "2         services  married          high.school  ...   may         mon  nonexistent\n",
              "3           admin.  married             basic.6y  ...   may         mon  nonexistent\n",
              "4         services  married          high.school  ...   may         mon  nonexistent\n",
              "...            ...      ...                  ...  ...   ...         ...          ...\n",
              "41183      retired  married  professional.course  ...   nov         fri  nonexistent\n",
              "41184  blue-collar  married  professional.course  ...   nov         fri  nonexistent\n",
              "41185      retired  married    university.degree  ...   nov         fri  nonexistent\n",
              "41186   technician  married  professional.course  ...   nov         fri  nonexistent\n",
              "41187      retired  married  professional.course  ...   nov         fri      failure\n",
              "\n",
              "[41188 rows x 10 columns]"
            ]
          },
          "metadata": {
            "tags": []
          },
          "execution_count": 40
        }
      ]
    },
    {
      "cell_type": "code",
      "metadata": {
        "id": "NTxVDkOBuwHK",
        "colab_type": "code",
        "colab": {
          "base_uri": "https://localhost:8080/",
          "height": 248
        },
        "outputId": "69023a27-4b10-464c-b576-aad98496e4e0"
      },
      "source": [
        "df['job'].value_counts()"
      ],
      "execution_count": null,
      "outputs": [
        {
          "output_type": "execute_result",
          "data": {
            "text/plain": [
              "admin.           10422\n",
              "blue-collar       9254\n",
              "technician        6743\n",
              "services          3969\n",
              "management        2924\n",
              "retired           1720\n",
              "entrepreneur      1456\n",
              "self-employed     1421\n",
              "housemaid         1060\n",
              "unemployed        1014\n",
              "student            875\n",
              "unknown            330\n",
              "Name: job, dtype: int64"
            ]
          },
          "metadata": {
            "tags": []
          },
          "execution_count": 41
        }
      ]
    },
    {
      "cell_type": "markdown",
      "metadata": {
        "id": "FYXAK--PwvPT",
        "colab_type": "text"
      },
      "source": [
        "Because status 'unknown' is useless i will change it to unemployed"
      ]
    },
    {
      "cell_type": "code",
      "metadata": {
        "id": "UbuB_bNmwUZA",
        "colab_type": "code",
        "colab": {}
      },
      "source": [
        "df['job']=df['job'].replace(['unknown'], 'unemployed')"
      ],
      "execution_count": 11,
      "outputs": []
    },
    {
      "cell_type": "code",
      "metadata": {
        "id": "eQWM0SdUuwKG",
        "colab_type": "code",
        "colab": {}
      },
      "source": [
        "dummies = pd.get_dummies(df['job'], drop_first=True)"
      ],
      "execution_count": 12,
      "outputs": []
    },
    {
      "cell_type": "code",
      "metadata": {
        "id": "3rcP1h66uwNr",
        "colab_type": "code",
        "colab": {}
      },
      "source": [
        "df= pd.concat([ df.drop('job', axis=1), dummies] , axis=1)"
      ],
      "execution_count": 13,
      "outputs": []
    },
    {
      "cell_type": "code",
      "metadata": {
        "id": "IJQJhUvHxc1h",
        "colab_type": "code",
        "colab": {
          "base_uri": "https://localhost:8080/",
          "height": 106
        },
        "outputId": "7a292841-3f85-4141-f609-21d9b8cebe6f"
      },
      "source": [
        "df['marital'].value_counts()"
      ],
      "execution_count": 14,
      "outputs": [
        {
          "output_type": "execute_result",
          "data": {
            "text/plain": [
              "married     24928\n",
              "single      11568\n",
              "divorced     4612\n",
              "unknown        80\n",
              "Name: marital, dtype: int64"
            ]
          },
          "metadata": {
            "tags": []
          },
          "execution_count": 14
        }
      ]
    },
    {
      "cell_type": "code",
      "metadata": {
        "id": "0VhvW3CJxc4w",
        "colab_type": "code",
        "colab": {
          "base_uri": "https://localhost:8080/",
          "height": 35
        },
        "outputId": "343ef637-03b2-4352-be7c-27c143e404c5"
      },
      "source": [
        "df [df['marital'] == 'unknown' ]['marital'].count()  /  df['marital'].count()  *100"
      ],
      "execution_count": 16,
      "outputs": [
        {
          "output_type": "execute_result",
          "data": {
            "text/plain": [
              "0.1942313295134505"
            ]
          },
          "metadata": {
            "tags": []
          },
          "execution_count": 16
        }
      ]
    },
    {
      "cell_type": "markdown",
      "metadata": {
        "id": "6oFcQfz2yGVw",
        "colab_type": "text"
      },
      "source": [
        "Because column marital with unknown status is useless and it's only 0,2 % total base i will remove these rows - the unknown value is useless\n"
      ]
    },
    {
      "cell_type": "code",
      "metadata": {
        "id": "CnZBYy9Wxc88",
        "colab_type": "code",
        "colab": {}
      },
      "source": [
        "df.drop ( index =  df [df['marital'] == 'unknown' ]['marital'].index, inplace=True   )"
      ],
      "execution_count": 17,
      "outputs": []
    },
    {
      "cell_type": "code",
      "metadata": {
        "id": "IOPb4dAOxdEo",
        "colab_type": "code",
        "colab": {
          "base_uri": "https://localhost:8080/",
          "height": 88
        },
        "outputId": "a5d64cc2-5b24-4e8d-84c8-6a6f565f088f"
      },
      "source": [
        "df['marital'].value_counts()"
      ],
      "execution_count": 18,
      "outputs": [
        {
          "output_type": "execute_result",
          "data": {
            "text/plain": [
              "married     24928\n",
              "single      11568\n",
              "divorced     4612\n",
              "Name: marital, dtype: int64"
            ]
          },
          "metadata": {
            "tags": []
          },
          "execution_count": 18
        }
      ]
    },
    {
      "cell_type": "code",
      "metadata": {
        "id": "cZPoqe1gxdIB",
        "colab_type": "code",
        "colab": {}
      },
      "source": [
        "dummies = pd.get_dummies(df['marital'], drop_first=True)"
      ],
      "execution_count": 19,
      "outputs": []
    },
    {
      "cell_type": "code",
      "metadata": {
        "id": "QuMGY7_d0t64",
        "colab_type": "code",
        "colab": {}
      },
      "source": [
        "df= pd.concat([ df.drop('marital', axis=1), dummies] , axis=1)"
      ],
      "execution_count": 20,
      "outputs": []
    },
    {
      "cell_type": "code",
      "metadata": {
        "id": "icFLaqWV0uAf",
        "colab_type": "code",
        "colab": {
          "base_uri": "https://localhost:8080/",
          "height": 177
        },
        "outputId": "831e7859-d680-482a-89e7-3da2a006470a"
      },
      "source": [
        "df['education'].value_counts()"
      ],
      "execution_count": 23,
      "outputs": [
        {
          "output_type": "execute_result",
          "data": {
            "text/plain": [
              "university.degree      12137\n",
              "high.school             9501\n",
              "basic.9y                6037\n",
              "professional.course     5237\n",
              "basic.4y                4170\n",
              "basic.6y                2286\n",
              "unknown                 1722\n",
              "illiterate                18\n",
              "Name: education, dtype: int64"
            ]
          },
          "metadata": {
            "tags": []
          },
          "execution_count": 23
        }
      ]
    },
    {
      "cell_type": "code",
      "metadata": {
        "id": "1DM0iPXg0uF9",
        "colab_type": "code",
        "colab": {
          "base_uri": "https://localhost:8080/",
          "height": 70
        },
        "outputId": "8b15bb32-67a9-4834-fb7f-8cea587623be"
      },
      "source": [
        "df['contact'].value_counts()"
      ],
      "execution_count": 24,
      "outputs": [
        {
          "output_type": "execute_result",
          "data": {
            "text/plain": [
              "cellular     26091\n",
              "telephone    15017\n",
              "Name: contact, dtype: int64"
            ]
          },
          "metadata": {
            "tags": []
          },
          "execution_count": 24
        }
      ]
    },
    {
      "cell_type": "code",
      "metadata": {
        "id": "xoAY5H3c0uJv",
        "colab_type": "code",
        "colab": {
          "base_uri": "https://localhost:8080/",
          "height": 88
        },
        "outputId": "cc2a091b-c6d7-4fad-bb47-43256233b2a0"
      },
      "source": [
        "df['poutcome'].value_counts()"
      ],
      "execution_count": 25,
      "outputs": [
        {
          "output_type": "execute_result",
          "data": {
            "text/plain": [
              "nonexistent    35501\n",
              "failure         4239\n",
              "success         1368\n",
              "Name: poutcome, dtype: int64"
            ]
          },
          "metadata": {
            "tags": []
          },
          "execution_count": 25
        }
      ]
    },
    {
      "cell_type": "markdown",
      "metadata": {
        "id": "ASSRXzBD1caR",
        "colab_type": "text"
      },
      "source": [
        "I will do dummies for education, contact and poutcome features"
      ]
    },
    {
      "cell_type": "code",
      "metadata": {
        "colab_type": "code",
        "id": "Feq0LYTz1yUF",
        "colab": {}
      },
      "source": [
        "dummies = pd.get_dummies(df['education'], drop_first=True)"
      ],
      "execution_count": 26,
      "outputs": []
    },
    {
      "cell_type": "code",
      "metadata": {
        "colab_type": "code",
        "id": "vNof_kSB1yUJ",
        "colab": {}
      },
      "source": [
        "df= pd.concat([ df.drop('education', axis=1), dummies] , axis=1)"
      ],
      "execution_count": 27,
      "outputs": []
    },
    {
      "cell_type": "code",
      "metadata": {
        "colab_type": "code",
        "id": "IxbBSZcI1ysw",
        "colab": {}
      },
      "source": [
        "dummies = pd.get_dummies(df['contact'], drop_first=True)"
      ],
      "execution_count": 28,
      "outputs": []
    },
    {
      "cell_type": "code",
      "metadata": {
        "colab_type": "code",
        "id": "cx-DtK5n1ysz",
        "colab": {}
      },
      "source": [
        "df= pd.concat([ df.drop('contact', axis=1), dummies] , axis=1)"
      ],
      "execution_count": 29,
      "outputs": []
    },
    {
      "cell_type": "code",
      "metadata": {
        "colab_type": "code",
        "id": "d7MZheOL1zLj",
        "colab": {}
      },
      "source": [
        "dummies = pd.get_dummies(df['poutcome'], drop_first=True)"
      ],
      "execution_count": 30,
      "outputs": []
    },
    {
      "cell_type": "code",
      "metadata": {
        "colab_type": "code",
        "id": "ie39q-Jr1zLm",
        "colab": {}
      },
      "source": [
        "df= pd.concat([ df.drop('poutcome', axis=1), dummies] , axis=1)"
      ],
      "execution_count": 31,
      "outputs": []
    },
    {
      "cell_type": "code",
      "metadata": {
        "id": "Znpcynt91z-b",
        "colab_type": "code",
        "colab": {
          "base_uri": "https://localhost:8080/",
          "height": 212
        },
        "outputId": "7e74fe0b-513b-40e2-ca2c-58fd0bec9d4e"
      },
      "source": [
        "df['month'].value_counts()"
      ],
      "execution_count": 33,
      "outputs": [
        {
          "output_type": "execute_result",
          "data": {
            "text/plain": [
              "may    13736\n",
              "jul     7165\n",
              "aug     6168\n",
              "jun     5306\n",
              "nov     4094\n",
              "apr     2629\n",
              "oct      715\n",
              "sep      570\n",
              "mar      543\n",
              "dec      182\n",
              "Name: month, dtype: int64"
            ]
          },
          "metadata": {
            "tags": []
          },
          "execution_count": 33
        }
      ]
    },
    {
      "cell_type": "code",
      "metadata": {
        "id": "L9olylKe10Bs",
        "colab_type": "code",
        "colab": {
          "base_uri": "https://localhost:8080/",
          "height": 124
        },
        "outputId": "fb74e670-6bb0-4817-a080-6549a7ab4cd3"
      },
      "source": [
        "df['day_of_week'].value_counts()"
      ],
      "execution_count": 34,
      "outputs": [
        {
          "output_type": "execute_result",
          "data": {
            "text/plain": [
              "thu    8599\n",
              "mon    8495\n",
              "wed    8120\n",
              "tue    8079\n",
              "fri    7815\n",
              "Name: day_of_week, dtype: int64"
            ]
          },
          "metadata": {
            "tags": []
          },
          "execution_count": 34
        }
      ]
    },
    {
      "cell_type": "markdown",
      "metadata": {
        "id": "Y6H_BvOS2xOd",
        "colab_type": "text"
      },
      "source": [
        "I think that information about last contact with customer: month it's not enough to predict anything, we don't when the contact with customer was vs todays date (one year from now or more). I will remove this column.\n",
        "I will leave day of the week, maybe we have specific days when customers are willing to subscribe a term deposit"
      ]
    },
    {
      "cell_type": "code",
      "metadata": {
        "id": "g8H0DdOV10Kl",
        "colab_type": "code",
        "colab": {}
      },
      "source": [
        "df.drop(columns='month', inplace=True, axis=1)"
      ],
      "execution_count": 37,
      "outputs": []
    },
    {
      "cell_type": "code",
      "metadata": {
        "id": "mE9ZECkx4rAA",
        "colab_type": "code",
        "colab": {}
      },
      "source": [
        "df['day_of_week'] = df['day_of_week'].map( {'thu':4, 'mon':1, 'wed':3, 'tue':2, 'fri':5}  )"
      ],
      "execution_count": 40,
      "outputs": []
    },
    {
      "cell_type": "code",
      "metadata": {
        "id": "7Yf1CEwp6I2N",
        "colab_type": "code",
        "colab": {
          "base_uri": "https://localhost:8080/",
          "height": 88
        },
        "outputId": "ca4f6777-7c6c-4f7d-abb0-f22f7c3950fe"
      },
      "source": [
        "df['default'].value_counts()"
      ],
      "execution_count": 43,
      "outputs": [
        {
          "output_type": "execute_result",
          "data": {
            "text/plain": [
              "no         32519\n",
              "unknown     8586\n",
              "yes            3\n",
              "Name: default, dtype: int64"
            ]
          },
          "metadata": {
            "tags": []
          },
          "execution_count": 43
        }
      ]
    },
    {
      "cell_type": "code",
      "metadata": {
        "id": "dzCB1Pmm6I5C",
        "colab_type": "code",
        "colab": {
          "base_uri": "https://localhost:8080/",
          "height": 88
        },
        "outputId": "65d49415-408a-4ea3-df25-83e27248bc09"
      },
      "source": [
        "df['housing'].value_counts()"
      ],
      "execution_count": 44,
      "outputs": [
        {
          "output_type": "execute_result",
          "data": {
            "text/plain": [
              "yes        21541\n",
              "no         18578\n",
              "unknown      989\n",
              "Name: housing, dtype: int64"
            ]
          },
          "metadata": {
            "tags": []
          },
          "execution_count": 44
        }
      ]
    },
    {
      "cell_type": "code",
      "metadata": {
        "id": "BzU6Tokw6I8-",
        "colab_type": "code",
        "colab": {
          "base_uri": "https://localhost:8080/",
          "height": 88
        },
        "outputId": "4c3147a0-7db8-4e4d-c674-481b50c6396e"
      },
      "source": [
        "df['loan'].value_counts()"
      ],
      "execution_count": 45,
      "outputs": [
        {
          "output_type": "execute_result",
          "data": {
            "text/plain": [
              "no         33883\n",
              "yes         6236\n",
              "unknown      989\n",
              "Name: loan, dtype: int64"
            ]
          },
          "metadata": {
            "tags": []
          },
          "execution_count": 45
        }
      ]
    },
    {
      "cell_type": "markdown",
      "metadata": {
        "colab_type": "text",
        "id": "PsATQZNe6iXu"
      },
      "source": [
        "I will do dummies for default, housing and loan features"
      ]
    },
    {
      "cell_type": "code",
      "metadata": {
        "colab_type": "code",
        "id": "_0lEKSpG6iXv",
        "colab": {}
      },
      "source": [
        "dummies = pd.get_dummies(df['default'], drop_first=True)"
      ],
      "execution_count": 46,
      "outputs": []
    },
    {
      "cell_type": "code",
      "metadata": {
        "colab_type": "code",
        "id": "bSjcRlFQ6iXy",
        "colab": {}
      },
      "source": [
        "df= pd.concat([ df.drop('default', axis=1), dummies] , axis=1)"
      ],
      "execution_count": 47,
      "outputs": []
    },
    {
      "cell_type": "code",
      "metadata": {
        "colab_type": "code",
        "id": "QiJhVJ-u6iX0",
        "colab": {}
      },
      "source": [
        "dummies = pd.get_dummies(df['housing'], drop_first=True)"
      ],
      "execution_count": 48,
      "outputs": []
    },
    {
      "cell_type": "code",
      "metadata": {
        "colab_type": "code",
        "id": "fH3SKm896iX2",
        "colab": {}
      },
      "source": [
        "df= pd.concat([ df.drop('housing', axis=1), dummies] , axis=1)"
      ],
      "execution_count": 49,
      "outputs": []
    },
    {
      "cell_type": "code",
      "metadata": {
        "colab_type": "code",
        "id": "2XWXsxHX6iX5",
        "colab": {}
      },
      "source": [
        "dummies = pd.get_dummies(df['loan'], drop_first=True)"
      ],
      "execution_count": 50,
      "outputs": []
    },
    {
      "cell_type": "code",
      "metadata": {
        "colab_type": "code",
        "id": "Q-qBaHu66iX8",
        "colab": {}
      },
      "source": [
        "df= pd.concat([ df.drop('loan', axis=1), dummies] , axis=1)"
      ],
      "execution_count": 51,
      "outputs": []
    },
    {
      "cell_type": "code",
      "metadata": {
        "id": "gq_yKJizxc_9",
        "colab_type": "code",
        "colab": {
          "base_uri": "https://localhost:8080/",
          "height": 172
        },
        "outputId": "05f73e23-44f3-4640-a4a5-6bdb8ab38039"
      },
      "source": [
        "df.head(3)"
      ],
      "execution_count": 53,
      "outputs": [
        {
          "output_type": "execute_result",
          "data": {
            "text/html": [
              "<div>\n",
              "<style scoped>\n",
              "    .dataframe tbody tr th:only-of-type {\n",
              "        vertical-align: middle;\n",
              "    }\n",
              "\n",
              "    .dataframe tbody tr th {\n",
              "        vertical-align: top;\n",
              "    }\n",
              "\n",
              "    .dataframe thead th {\n",
              "        text-align: right;\n",
              "    }\n",
              "</style>\n",
              "<table border=\"1\" class=\"dataframe\">\n",
              "  <thead>\n",
              "    <tr style=\"text-align: right;\">\n",
              "      <th></th>\n",
              "      <th>age</th>\n",
              "      <th>day_of_week</th>\n",
              "      <th>duration</th>\n",
              "      <th>campaign</th>\n",
              "      <th>pdays</th>\n",
              "      <th>previous</th>\n",
              "      <th>emp.var.rate</th>\n",
              "      <th>cons.price.idx</th>\n",
              "      <th>cons.conf.idx</th>\n",
              "      <th>euribor3m</th>\n",
              "      <th>nr.employed</th>\n",
              "      <th>y</th>\n",
              "      <th>blue-collar</th>\n",
              "      <th>entrepreneur</th>\n",
              "      <th>housemaid</th>\n",
              "      <th>management</th>\n",
              "      <th>retired</th>\n",
              "      <th>self-employed</th>\n",
              "      <th>services</th>\n",
              "      <th>student</th>\n",
              "      <th>technician</th>\n",
              "      <th>unemployed</th>\n",
              "      <th>married</th>\n",
              "      <th>single</th>\n",
              "      <th>basic.6y</th>\n",
              "      <th>basic.9y</th>\n",
              "      <th>high.school</th>\n",
              "      <th>illiterate</th>\n",
              "      <th>professional.course</th>\n",
              "      <th>university.degree</th>\n",
              "      <th>unknown</th>\n",
              "      <th>telephone</th>\n",
              "      <th>nonexistent</th>\n",
              "      <th>success</th>\n",
              "      <th>unknown</th>\n",
              "      <th>yes</th>\n",
              "      <th>unknown</th>\n",
              "      <th>yes</th>\n",
              "      <th>unknown</th>\n",
              "      <th>yes</th>\n",
              "    </tr>\n",
              "  </thead>\n",
              "  <tbody>\n",
              "    <tr>\n",
              "      <th>0</th>\n",
              "      <td>56</td>\n",
              "      <td>1</td>\n",
              "      <td>261</td>\n",
              "      <td>1</td>\n",
              "      <td>999</td>\n",
              "      <td>0</td>\n",
              "      <td>1.1</td>\n",
              "      <td>93.994</td>\n",
              "      <td>-36.4</td>\n",
              "      <td>4.857</td>\n",
              "      <td>5191.0</td>\n",
              "      <td>0</td>\n",
              "      <td>0</td>\n",
              "      <td>0</td>\n",
              "      <td>1</td>\n",
              "      <td>0</td>\n",
              "      <td>0</td>\n",
              "      <td>0</td>\n",
              "      <td>0</td>\n",
              "      <td>0</td>\n",
              "      <td>0</td>\n",
              "      <td>0</td>\n",
              "      <td>1</td>\n",
              "      <td>0</td>\n",
              "      <td>0</td>\n",
              "      <td>0</td>\n",
              "      <td>0</td>\n",
              "      <td>0</td>\n",
              "      <td>0</td>\n",
              "      <td>0</td>\n",
              "      <td>0</td>\n",
              "      <td>1</td>\n",
              "      <td>1</td>\n",
              "      <td>0</td>\n",
              "      <td>0</td>\n",
              "      <td>0</td>\n",
              "      <td>0</td>\n",
              "      <td>0</td>\n",
              "      <td>0</td>\n",
              "      <td>0</td>\n",
              "    </tr>\n",
              "    <tr>\n",
              "      <th>1</th>\n",
              "      <td>57</td>\n",
              "      <td>1</td>\n",
              "      <td>149</td>\n",
              "      <td>1</td>\n",
              "      <td>999</td>\n",
              "      <td>0</td>\n",
              "      <td>1.1</td>\n",
              "      <td>93.994</td>\n",
              "      <td>-36.4</td>\n",
              "      <td>4.857</td>\n",
              "      <td>5191.0</td>\n",
              "      <td>0</td>\n",
              "      <td>0</td>\n",
              "      <td>0</td>\n",
              "      <td>0</td>\n",
              "      <td>0</td>\n",
              "      <td>0</td>\n",
              "      <td>0</td>\n",
              "      <td>1</td>\n",
              "      <td>0</td>\n",
              "      <td>0</td>\n",
              "      <td>0</td>\n",
              "      <td>1</td>\n",
              "      <td>0</td>\n",
              "      <td>0</td>\n",
              "      <td>0</td>\n",
              "      <td>1</td>\n",
              "      <td>0</td>\n",
              "      <td>0</td>\n",
              "      <td>0</td>\n",
              "      <td>0</td>\n",
              "      <td>1</td>\n",
              "      <td>1</td>\n",
              "      <td>0</td>\n",
              "      <td>1</td>\n",
              "      <td>0</td>\n",
              "      <td>0</td>\n",
              "      <td>0</td>\n",
              "      <td>0</td>\n",
              "      <td>0</td>\n",
              "    </tr>\n",
              "    <tr>\n",
              "      <th>2</th>\n",
              "      <td>37</td>\n",
              "      <td>1</td>\n",
              "      <td>226</td>\n",
              "      <td>1</td>\n",
              "      <td>999</td>\n",
              "      <td>0</td>\n",
              "      <td>1.1</td>\n",
              "      <td>93.994</td>\n",
              "      <td>-36.4</td>\n",
              "      <td>4.857</td>\n",
              "      <td>5191.0</td>\n",
              "      <td>0</td>\n",
              "      <td>0</td>\n",
              "      <td>0</td>\n",
              "      <td>0</td>\n",
              "      <td>0</td>\n",
              "      <td>0</td>\n",
              "      <td>0</td>\n",
              "      <td>1</td>\n",
              "      <td>0</td>\n",
              "      <td>0</td>\n",
              "      <td>0</td>\n",
              "      <td>1</td>\n",
              "      <td>0</td>\n",
              "      <td>0</td>\n",
              "      <td>0</td>\n",
              "      <td>1</td>\n",
              "      <td>0</td>\n",
              "      <td>0</td>\n",
              "      <td>0</td>\n",
              "      <td>0</td>\n",
              "      <td>1</td>\n",
              "      <td>1</td>\n",
              "      <td>0</td>\n",
              "      <td>0</td>\n",
              "      <td>0</td>\n",
              "      <td>0</td>\n",
              "      <td>1</td>\n",
              "      <td>0</td>\n",
              "      <td>0</td>\n",
              "    </tr>\n",
              "  </tbody>\n",
              "</table>\n",
              "</div>"
            ],
            "text/plain": [
              "   age  day_of_week  duration  campaign  pdays  ...  yes  unknown  yes  unknown  yes\n",
              "0   56            1       261         1    999  ...    0        0    0        0    0\n",
              "1   57            1       149         1    999  ...    0        0    0        0    0\n",
              "2   37            1       226         1    999  ...    0        0    1        0    0\n",
              "\n",
              "[3 rows x 40 columns]"
            ]
          },
          "metadata": {
            "tags": []
          },
          "execution_count": 53
        }
      ]
    },
    {
      "cell_type": "markdown",
      "metadata": {
        "id": "5T7QgYTtDpUz",
        "colab_type": "text"
      },
      "source": [
        "Train Test Split"
      ]
    },
    {
      "cell_type": "code",
      "metadata": {
        "id": "iVhCuPLWDqrg",
        "colab_type": "code",
        "colab": {}
      },
      "source": [
        "from sklearn.model_selection import train_test_split"
      ],
      "execution_count": 58,
      "outputs": []
    },
    {
      "cell_type": "code",
      "metadata": {
        "id": "YnvtRX1fD8tL",
        "colab_type": "code",
        "colab": {}
      },
      "source": [
        "X = df.drop(columns='y', axis=1).values\n",
        "y = df['y'].values"
      ],
      "execution_count": 59,
      "outputs": []
    },
    {
      "cell_type": "code",
      "metadata": {
        "id": "oGOOSh4nDqv2",
        "colab_type": "code",
        "colab": {}
      },
      "source": [
        "X_train, X_test, y_train, y_test = train_test_split( X, y, test_size=0.3, random_state=102)"
      ],
      "execution_count": 60,
      "outputs": []
    },
    {
      "cell_type": "markdown",
      "metadata": {
        "id": "e4WWlv4kC8Za",
        "colab_type": "text"
      },
      "source": [
        "# Creating the Model"
      ]
    },
    {
      "cell_type": "markdown",
      "metadata": {
        "id": "7YedX9rlDV_4",
        "colab_type": "text"
      },
      "source": [
        "Normalizing the Data"
      ]
    },
    {
      "cell_type": "code",
      "metadata": {
        "id": "nOT6mWM97L2d",
        "colab_type": "code",
        "colab": {}
      },
      "source": [
        "from sklearn.preprocessing import MinMaxScaler"
      ],
      "execution_count": 61,
      "outputs": []
    },
    {
      "cell_type": "code",
      "metadata": {
        "id": "tTDiBLFl7L5l",
        "colab_type": "code",
        "colab": {}
      },
      "source": [
        "scaler = MinMaxScaler()"
      ],
      "execution_count": 63,
      "outputs": []
    },
    {
      "cell_type": "code",
      "metadata": {
        "id": "qkeKY4YP7A7f",
        "colab_type": "code",
        "colab": {}
      },
      "source": [
        "X_train = scaler.fit_transform(X_train)"
      ],
      "execution_count": 64,
      "outputs": []
    },
    {
      "cell_type": "code",
      "metadata": {
        "id": "euhbyID_EhTH",
        "colab_type": "code",
        "colab": {}
      },
      "source": [
        "X_test = scaler.transform(X_test)"
      ],
      "execution_count": 65,
      "outputs": []
    },
    {
      "cell_type": "code",
      "metadata": {
        "id": "kCNy1OsaEz1P",
        "colab_type": "code",
        "colab": {}
      },
      "source": [
        ""
      ],
      "execution_count": null,
      "outputs": []
    },
    {
      "cell_type": "code",
      "metadata": {
        "id": "kvjlItuNEtd2",
        "colab_type": "code",
        "colab": {}
      },
      "source": [
        "import tensorflow as tf\n",
        "from tensorflow.keras.models import Sequential\n",
        "from tensorflow.keras.layers import Dense"
      ],
      "execution_count": 68,
      "outputs": []
    },
    {
      "cell_type": "code",
      "metadata": {
        "id": "A4q_OSr5Etl2",
        "colab_type": "code",
        "colab": {
          "base_uri": "https://localhost:8080/",
          "height": 35
        },
        "outputId": "871a6f02-f927-49d9-e5d5-da0f1910ec6b"
      },
      "source": [
        "len(df.columns)"
      ],
      "execution_count": 70,
      "outputs": [
        {
          "output_type": "execute_result",
          "data": {
            "text/plain": [
              "40"
            ]
          },
          "metadata": {
            "tags": []
          },
          "execution_count": 70
        }
      ]
    },
    {
      "cell_type": "code",
      "metadata": {
        "id": "tesaO4TTEtsu",
        "colab_type": "code",
        "colab": {}
      },
      "source": [
        ""
      ],
      "execution_count": 71,
      "outputs": []
    },
    {
      "cell_type": "markdown",
      "metadata": {
        "id": "rM4-nBaConGi",
        "colab_type": "text"
      },
      "source": [
        "For classification problem i will use loss binary crossentropy and adam optimizer."
      ]
    },
    {
      "cell_type": "code",
      "metadata": {
        "id": "CM9ZTiGnEtqw",
        "colab_type": "code",
        "colab": {}
      },
      "source": [
        "model = Sequential()\n",
        "\n",
        "model.add( Dense(40, activation='relu'))\n",
        "\n",
        "model.add( Dense(20, activation='relu'))\n",
        "\n",
        "model.add( Dense(10, activation='relu'))\n",
        "\n",
        "model.add( Dense(1,  activation='sigmoid'))\n",
        "\n",
        "model.compile(optimizer='adam', loss = 'binary_crossentropy')"
      ],
      "execution_count": 72,
      "outputs": []
    },
    {
      "cell_type": "code",
      "metadata": {
        "id": "HB-s1Gf2EtjC",
        "colab_type": "code",
        "colab": {
          "base_uri": "https://localhost:8080/",
          "height": 1000
        },
        "outputId": "40381cdb-68a8-4023-b938-dd8433cbfa3a"
      },
      "source": [
        "model.fit(x=X_train, y=y_train, batch_size=256, validation_data=(X_test,y_test), epochs= 100)"
      ],
      "execution_count": 73,
      "outputs": [
        {
          "output_type": "stream",
          "text": [
            "Epoch 1/100\n",
            "113/113 [==============================] - 0s 4ms/step - loss: 0.4031 - val_loss: 0.2985\n",
            "Epoch 2/100\n",
            "113/113 [==============================] - 0s 2ms/step - loss: 0.2833 - val_loss: 0.2792\n",
            "Epoch 3/100\n",
            "113/113 [==============================] - 0s 2ms/step - loss: 0.2662 - val_loss: 0.2616\n",
            "Epoch 4/100\n",
            "113/113 [==============================] - 0s 3ms/step - loss: 0.2425 - val_loss: 0.2330\n",
            "Epoch 5/100\n",
            "113/113 [==============================] - 0s 2ms/step - loss: 0.2157 - val_loss: 0.2184\n",
            "Epoch 6/100\n",
            "113/113 [==============================] - 0s 2ms/step - loss: 0.2050 - val_loss: 0.2120\n",
            "Epoch 7/100\n",
            "113/113 [==============================] - 0s 2ms/step - loss: 0.1999 - val_loss: 0.2089\n",
            "Epoch 8/100\n",
            "113/113 [==============================] - 0s 2ms/step - loss: 0.1975 - val_loss: 0.2075\n",
            "Epoch 9/100\n",
            "113/113 [==============================] - 0s 2ms/step - loss: 0.1946 - val_loss: 0.2055\n",
            "Epoch 10/100\n",
            "113/113 [==============================] - 0s 2ms/step - loss: 0.1922 - val_loss: 0.2053\n",
            "Epoch 11/100\n",
            "113/113 [==============================] - 0s 2ms/step - loss: 0.1922 - val_loss: 0.2048\n",
            "Epoch 12/100\n",
            "113/113 [==============================] - 0s 2ms/step - loss: 0.1898 - val_loss: 0.2042\n",
            "Epoch 13/100\n",
            "113/113 [==============================] - 0s 2ms/step - loss: 0.1884 - val_loss: 0.2029\n",
            "Epoch 14/100\n",
            "113/113 [==============================] - 0s 2ms/step - loss: 0.1875 - val_loss: 0.2053\n",
            "Epoch 15/100\n",
            "113/113 [==============================] - 0s 2ms/step - loss: 0.1869 - val_loss: 0.2022\n",
            "Epoch 16/100\n",
            "113/113 [==============================] - 0s 2ms/step - loss: 0.1858 - val_loss: 0.2034\n",
            "Epoch 17/100\n",
            "113/113 [==============================] - 0s 2ms/step - loss: 0.1854 - val_loss: 0.2044\n",
            "Epoch 18/100\n",
            "113/113 [==============================] - 0s 2ms/step - loss: 0.1844 - val_loss: 0.2043\n",
            "Epoch 19/100\n",
            "113/113 [==============================] - 0s 2ms/step - loss: 0.1846 - val_loss: 0.2084\n",
            "Epoch 20/100\n",
            "113/113 [==============================] - 0s 2ms/step - loss: 0.1834 - val_loss: 0.2035\n",
            "Epoch 21/100\n",
            "113/113 [==============================] - 0s 2ms/step - loss: 0.1837 - val_loss: 0.2055\n",
            "Epoch 22/100\n",
            "113/113 [==============================] - 0s 2ms/step - loss: 0.1822 - val_loss: 0.2043\n",
            "Epoch 23/100\n",
            "113/113 [==============================] - 0s 2ms/step - loss: 0.1826 - val_loss: 0.2034\n",
            "Epoch 24/100\n",
            "113/113 [==============================] - 0s 2ms/step - loss: 0.1805 - val_loss: 0.2042\n",
            "Epoch 25/100\n",
            "113/113 [==============================] - 0s 2ms/step - loss: 0.1813 - val_loss: 0.2020\n",
            "Epoch 26/100\n",
            "113/113 [==============================] - 0s 2ms/step - loss: 0.1800 - val_loss: 0.2054\n",
            "Epoch 27/100\n",
            "113/113 [==============================] - 0s 2ms/step - loss: 0.1800 - val_loss: 0.2023\n",
            "Epoch 28/100\n",
            "113/113 [==============================] - 0s 2ms/step - loss: 0.1785 - val_loss: 0.2069\n",
            "Epoch 29/100\n",
            "113/113 [==============================] - 0s 2ms/step - loss: 0.1779 - val_loss: 0.2033\n",
            "Epoch 30/100\n",
            "113/113 [==============================] - 0s 3ms/step - loss: 0.1775 - val_loss: 0.2030\n",
            "Epoch 31/100\n",
            "113/113 [==============================] - 0s 3ms/step - loss: 0.1777 - val_loss: 0.2064\n",
            "Epoch 32/100\n",
            "113/113 [==============================] - 0s 3ms/step - loss: 0.1771 - val_loss: 0.2045\n",
            "Epoch 33/100\n",
            "113/113 [==============================] - 0s 3ms/step - loss: 0.1763 - val_loss: 0.2056\n",
            "Epoch 34/100\n",
            "113/113 [==============================] - 0s 3ms/step - loss: 0.1758 - val_loss: 0.2087\n",
            "Epoch 35/100\n",
            "113/113 [==============================] - 0s 2ms/step - loss: 0.1761 - val_loss: 0.2060\n",
            "Epoch 36/100\n",
            "113/113 [==============================] - 0s 2ms/step - loss: 0.1758 - val_loss: 0.2076\n",
            "Epoch 37/100\n",
            "113/113 [==============================] - 0s 3ms/step - loss: 0.1760 - val_loss: 0.2175\n",
            "Epoch 38/100\n",
            "113/113 [==============================] - 0s 3ms/step - loss: 0.1760 - val_loss: 0.2029\n",
            "Epoch 39/100\n",
            "113/113 [==============================] - 0s 3ms/step - loss: 0.1742 - val_loss: 0.2073\n",
            "Epoch 40/100\n",
            "113/113 [==============================] - 0s 3ms/step - loss: 0.1744 - val_loss: 0.2059\n",
            "Epoch 41/100\n",
            "113/113 [==============================] - 0s 3ms/step - loss: 0.1737 - val_loss: 0.2046\n",
            "Epoch 42/100\n",
            "113/113 [==============================] - 0s 3ms/step - loss: 0.1734 - val_loss: 0.2058\n",
            "Epoch 43/100\n",
            "113/113 [==============================] - 0s 3ms/step - loss: 0.1733 - val_loss: 0.2045\n",
            "Epoch 44/100\n",
            "113/113 [==============================] - 0s 3ms/step - loss: 0.1743 - val_loss: 0.2049\n",
            "Epoch 45/100\n",
            "113/113 [==============================] - 0s 3ms/step - loss: 0.1722 - val_loss: 0.2038\n",
            "Epoch 46/100\n",
            "113/113 [==============================] - 0s 3ms/step - loss: 0.1722 - val_loss: 0.2099\n",
            "Epoch 47/100\n",
            "113/113 [==============================] - 0s 2ms/step - loss: 0.1710 - val_loss: 0.2058\n",
            "Epoch 48/100\n",
            "113/113 [==============================] - 0s 3ms/step - loss: 0.1709 - val_loss: 0.2051\n",
            "Epoch 49/100\n",
            "113/113 [==============================] - 0s 3ms/step - loss: 0.1718 - val_loss: 0.2055\n",
            "Epoch 50/100\n",
            "113/113 [==============================] - 0s 3ms/step - loss: 0.1706 - val_loss: 0.2032\n",
            "Epoch 51/100\n",
            "113/113 [==============================] - 0s 3ms/step - loss: 0.1709 - val_loss: 0.2052\n",
            "Epoch 52/100\n",
            "113/113 [==============================] - 0s 3ms/step - loss: 0.1711 - val_loss: 0.2050\n",
            "Epoch 53/100\n",
            "113/113 [==============================] - 0s 3ms/step - loss: 0.1696 - val_loss: 0.2074\n",
            "Epoch 54/100\n",
            "113/113 [==============================] - 0s 3ms/step - loss: 0.1710 - val_loss: 0.2053\n",
            "Epoch 55/100\n",
            "113/113 [==============================] - 0s 3ms/step - loss: 0.1695 - val_loss: 0.2059\n",
            "Epoch 56/100\n",
            "113/113 [==============================] - 0s 3ms/step - loss: 0.1691 - val_loss: 0.2080\n",
            "Epoch 57/100\n",
            "113/113 [==============================] - 0s 3ms/step - loss: 0.1688 - val_loss: 0.2098\n",
            "Epoch 58/100\n",
            "113/113 [==============================] - 0s 3ms/step - loss: 0.1691 - val_loss: 0.2072\n",
            "Epoch 59/100\n",
            "113/113 [==============================] - 0s 3ms/step - loss: 0.1688 - val_loss: 0.2090\n",
            "Epoch 60/100\n",
            "113/113 [==============================] - 0s 3ms/step - loss: 0.1687 - val_loss: 0.2074\n",
            "Epoch 61/100\n",
            "113/113 [==============================] - 0s 3ms/step - loss: 0.1682 - val_loss: 0.2077\n",
            "Epoch 62/100\n",
            "113/113 [==============================] - 0s 3ms/step - loss: 0.1678 - val_loss: 0.2100\n",
            "Epoch 63/100\n",
            "113/113 [==============================] - 0s 2ms/step - loss: 0.1676 - val_loss: 0.2094\n",
            "Epoch 64/100\n",
            "113/113 [==============================] - 0s 2ms/step - loss: 0.1683 - val_loss: 0.2103\n",
            "Epoch 65/100\n",
            "113/113 [==============================] - 0s 3ms/step - loss: 0.1697 - val_loss: 0.2094\n",
            "Epoch 66/100\n",
            "113/113 [==============================] - 0s 2ms/step - loss: 0.1671 - val_loss: 0.2083\n",
            "Epoch 67/100\n",
            "113/113 [==============================] - 0s 2ms/step - loss: 0.1661 - val_loss: 0.2074\n",
            "Epoch 68/100\n",
            "113/113 [==============================] - 0s 2ms/step - loss: 0.1661 - val_loss: 0.2084\n",
            "Epoch 69/100\n",
            "113/113 [==============================] - 0s 2ms/step - loss: 0.1659 - val_loss: 0.2099\n",
            "Epoch 70/100\n",
            "113/113 [==============================] - 0s 2ms/step - loss: 0.1657 - val_loss: 0.2076\n",
            "Epoch 71/100\n",
            "113/113 [==============================] - 0s 2ms/step - loss: 0.1655 - val_loss: 0.2082\n",
            "Epoch 72/100\n",
            "113/113 [==============================] - 0s 2ms/step - loss: 0.1650 - val_loss: 0.2126\n",
            "Epoch 73/100\n",
            "113/113 [==============================] - 0s 2ms/step - loss: 0.1662 - val_loss: 0.2083\n",
            "Epoch 74/100\n",
            "113/113 [==============================] - 0s 2ms/step - loss: 0.1651 - val_loss: 0.2130\n",
            "Epoch 75/100\n",
            "113/113 [==============================] - 0s 2ms/step - loss: 0.1651 - val_loss: 0.2094\n",
            "Epoch 76/100\n",
            "113/113 [==============================] - 0s 2ms/step - loss: 0.1641 - val_loss: 0.2132\n",
            "Epoch 77/100\n",
            "113/113 [==============================] - 0s 2ms/step - loss: 0.1652 - val_loss: 0.2113\n",
            "Epoch 78/100\n",
            "113/113 [==============================] - 0s 2ms/step - loss: 0.1636 - val_loss: 0.2120\n",
            "Epoch 79/100\n",
            "113/113 [==============================] - 0s 2ms/step - loss: 0.1637 - val_loss: 0.2095\n",
            "Epoch 80/100\n",
            "113/113 [==============================] - 0s 2ms/step - loss: 0.1638 - val_loss: 0.2149\n",
            "Epoch 81/100\n",
            "113/113 [==============================] - 0s 2ms/step - loss: 0.1641 - val_loss: 0.2093\n",
            "Epoch 82/100\n",
            "113/113 [==============================] - 0s 2ms/step - loss: 0.1639 - val_loss: 0.2107\n",
            "Epoch 83/100\n",
            "113/113 [==============================] - 0s 2ms/step - loss: 0.1632 - val_loss: 0.2178\n",
            "Epoch 84/100\n",
            "113/113 [==============================] - 0s 2ms/step - loss: 0.1650 - val_loss: 0.2129\n",
            "Epoch 85/100\n",
            "113/113 [==============================] - 0s 2ms/step - loss: 0.1634 - val_loss: 0.2138\n",
            "Epoch 86/100\n",
            "113/113 [==============================] - 0s 2ms/step - loss: 0.1620 - val_loss: 0.2114\n",
            "Epoch 87/100\n",
            "113/113 [==============================] - 0s 2ms/step - loss: 0.1634 - val_loss: 0.2143\n",
            "Epoch 88/100\n",
            "113/113 [==============================] - 0s 2ms/step - loss: 0.1616 - val_loss: 0.2113\n",
            "Epoch 89/100\n",
            "113/113 [==============================] - 0s 2ms/step - loss: 0.1627 - val_loss: 0.2141\n",
            "Epoch 90/100\n",
            "113/113 [==============================] - 0s 2ms/step - loss: 0.1626 - val_loss: 0.2115\n",
            "Epoch 91/100\n",
            "113/113 [==============================] - 0s 2ms/step - loss: 0.1609 - val_loss: 0.2169\n",
            "Epoch 92/100\n",
            "113/113 [==============================] - 0s 2ms/step - loss: 0.1608 - val_loss: 0.2187\n",
            "Epoch 93/100\n",
            "113/113 [==============================] - 0s 2ms/step - loss: 0.1604 - val_loss: 0.2192\n",
            "Epoch 94/100\n",
            "113/113 [==============================] - 0s 2ms/step - loss: 0.1608 - val_loss: 0.2115\n",
            "Epoch 95/100\n",
            "113/113 [==============================] - 0s 2ms/step - loss: 0.1604 - val_loss: 0.2160\n",
            "Epoch 96/100\n",
            "113/113 [==============================] - 0s 2ms/step - loss: 0.1599 - val_loss: 0.2145\n",
            "Epoch 97/100\n",
            "113/113 [==============================] - 0s 2ms/step - loss: 0.1606 - val_loss: 0.2140\n",
            "Epoch 98/100\n",
            "113/113 [==============================] - 0s 2ms/step - loss: 0.1598 - val_loss: 0.2193\n",
            "Epoch 99/100\n",
            "113/113 [==============================] - 0s 2ms/step - loss: 0.1595 - val_loss: 0.2130\n",
            "Epoch 100/100\n",
            "113/113 [==============================] - 0s 2ms/step - loss: 0.1604 - val_loss: 0.2161\n"
          ],
          "name": "stdout"
        },
        {
          "output_type": "execute_result",
          "data": {
            "text/plain": [
              "<tensorflow.python.keras.callbacks.History at 0x7fd5fd52e828>"
            ]
          },
          "metadata": {
            "tags": []
          },
          "execution_count": 73
        }
      ]
    },
    {
      "cell_type": "markdown",
      "metadata": {
        "id": "IRHB_PRZHcfh",
        "colab_type": "text"
      },
      "source": [
        "Checking the results of the model fit"
      ]
    },
    {
      "cell_type": "code",
      "metadata": {
        "id": "I1vE2P9wGjZN",
        "colab_type": "code",
        "colab": {}
      },
      "source": [
        "losses = pd.DataFrame(model.history.history)"
      ],
      "execution_count": 74,
      "outputs": []
    },
    {
      "cell_type": "code",
      "metadata": {
        "id": "80XpaV2NGjdK",
        "colab_type": "code",
        "colab": {
          "base_uri": "https://localhost:8080/",
          "height": 283
        },
        "outputId": "c60b2bf7-f0ec-411d-bf41-0e1cb9578bf0"
      },
      "source": [
        "losses.plot()"
      ],
      "execution_count": 75,
      "outputs": [
        {
          "output_type": "execute_result",
          "data": {
            "text/plain": [
              "<matplotlib.axes._subplots.AxesSubplot at 0x7fd5f98ab4e0>"
            ]
          },
          "metadata": {
            "tags": []
          },
          "execution_count": 75
        },
        {
          "output_type": "display_data",
          "data": {
            "image/png": "[encoded data removed]",
            "text/plain": [
              "<Figure size 432x288 with 1 Axes>"
            ]
          },
          "metadata": {
            "tags": [],
            "needs_background": "light"
          }
        }
      ]
    },
    {
      "cell_type": "code",
      "metadata": {
        "id": "oKHfwzAyEthP",
        "colab_type": "code",
        "colab": {}
      },
      "source": [
        "from sklearn.metrics import classification_report,confusion_matrix"
      ],
      "execution_count": 76,
      "outputs": []
    },
    {
      "cell_type": "code",
      "metadata": {
        "id": "rYUfYlnHHBnZ",
        "colab_type": "code",
        "colab": {
          "base_uri": "https://localhost:8080/",
          "height": 90
        },
        "outputId": "1d84a0ae-0885-4b7d-acdc-c0c0715761f9"
      },
      "source": [
        "predictions = model.predict_classes(X_test)"
      ],
      "execution_count": 77,
      "outputs": [
        {
          "output_type": "stream",
          "text": [
            "WARNING:tensorflow:From <ipython-input-77-bc83193b8b59>:1: Sequential.predict_classes (from tensorflow.python.keras.engine.sequential) is deprecated and will be removed after 2021-01-01.\n",
            "Instructions for updating:\n",
            "Please use instead:* `np.argmax(model.predict(x), axis=-1)`,   if your model does multi-class classification   (e.g. if it uses a `softmax` last-layer activation).* `(model.predict(x) > 0.5).astype(\"int32\")`,   if your model does binary classification   (e.g. if it uses a `sigmoid` last-layer activation).\n"
          ],
          "name": "stdout"
        }
      ]
    },
    {
      "cell_type": "markdown",
      "metadata": {
        "id": "_paSTp7bHsyc",
        "colab_type": "text"
      },
      "source": [
        "Checking the results of predictions"
      ]
    },
    {
      "cell_type": "code",
      "metadata": {
        "id": "KRJfSqRmG7Zq",
        "colab_type": "code",
        "colab": {
          "base_uri": "https://localhost:8080/",
          "height": 212
        },
        "outputId": "9ce9c10c-99b5-48cd-889f-7cdbdaa2ab8e"
      },
      "source": [
        "print(confusion_matrix(y_test,predictions))\n",
        "print( classification_report(y_test, predictions))"
      ],
      "execution_count": 78,
      "outputs": [
        {
          "output_type": "stream",
          "text": [
            "[[10378   567]\n",
            " [  648   740]]\n",
            "              precision    recall  f1-score   support\n",
            "\n",
            "           0       0.94      0.95      0.94     10945\n",
            "           1       0.57      0.53      0.55      1388\n",
            "\n",
            "    accuracy                           0.90     12333\n",
            "   macro avg       0.75      0.74      0.75     12333\n",
            "weighted avg       0.90      0.90      0.90     12333\n",
            "\n"
          ],
          "name": "stdout"
        }
      ]
    },
    {
      "cell_type": "code",
      "metadata": {
        "id": "StmPMzMBG7e8",
        "colab_type": "code",
        "colab": {}
      },
      "source": [
        ""
      ],
      "execution_count": null,
      "outputs": []
    },
    {
      "cell_type": "markdown",
      "metadata": {
        "id": "xi8SzJW4IwHq",
        "colab_type": "text"
      },
      "source": [
        "Poor results for group 1, I will use EarlyStopping to avoid deviation for the validation data, additionally i will use Dropout to prevent overfitting."
      ]
    },
    {
      "cell_type": "code",
      "metadata": {
        "id": "88glwINwH4sW",
        "colab_type": "code",
        "colab": {}
      },
      "source": [
        "from tensorflow.keras.callbacks import EarlyStopping"
      ],
      "execution_count": 79,
      "outputs": []
    },
    {
      "cell_type": "code",
      "metadata": {
        "id": "MckZtR8YH4vb",
        "colab_type": "code",
        "colab": {}
      },
      "source": [
        "early_stop=EarlyStopping(monitor='val_loss', mode='min', patience=20)"
      ],
      "execution_count": 81,
      "outputs": []
    },
    {
      "cell_type": "code",
      "metadata": {
        "id": "4IE8RmxsKIiK",
        "colab_type": "code",
        "colab": {}
      },
      "source": [
        "from tensorflow.keras.layers import Dense, Activation,Dropout"
      ],
      "execution_count": 90,
      "outputs": []
    },
    {
      "cell_type": "code",
      "metadata": {
        "colab_type": "code",
        "id": "vZt14Xs6JQIZ",
        "colab": {}
      },
      "source": [
        "model = Sequential()\n",
        "\n",
        "model.add( Dense(40, activation='relu'))\n",
        "model.add(Dropout(0.2))\n",
        "\n",
        "model.add( Dense(20, activation='relu'))\n",
        "model.add(Dropout(0.2))\n",
        "\n",
        "model.add( Dense(10, activation='relu'))\n",
        "model.add(Dropout(0.2))\n",
        "\n",
        "model.add( Dense(1,  activation='sigmoid'))\n",
        "model.add(Dropout(0.2))\n",
        "\n",
        "model.compile(optimizer='adam', loss = 'binary_crossentropy')"
      ],
      "execution_count": 111,
      "outputs": []
    },
    {
      "cell_type": "code",
      "metadata": {
        "colab_type": "code",
        "id": "G9SL4vJBJQId",
        "colab": {
          "base_uri": "https://localhost:8080/",
          "height": 710
        },
        "outputId": "7fd4d0e1-5537-42d7-b267-4a3119e1e991"
      },
      "source": [
        "model.fit(x=X_train, y=y_train, batch_size=8, validation_data=(X_test,y_test), epochs= 100, callbacks=[early_stop])"
      ],
      "execution_count": 112,
      "outputs": [
        {
          "output_type": "stream",
          "text": [
            "Epoch 1/100\n",
            "3597/3597 [==============================] - 6s 2ms/step - loss: 0.5964 - val_loss: 0.2406\n",
            "Epoch 2/100\n",
            "3597/3597 [==============================] - 6s 2ms/step - loss: 0.5348 - val_loss: 0.2294\n",
            "Epoch 3/100\n",
            "3597/3597 [==============================] - 6s 2ms/step - loss: 0.5259 - val_loss: 0.2172\n",
            "Epoch 4/100\n",
            "3597/3597 [==============================] - 6s 2ms/step - loss: 0.5220 - val_loss: 0.2088\n",
            "Epoch 5/100\n",
            "3597/3597 [==============================] - 6s 2ms/step - loss: 0.5022 - val_loss: 0.2139\n",
            "Epoch 6/100\n",
            "3597/3597 [==============================] - 6s 2ms/step - loss: 0.5007 - val_loss: 0.2073\n",
            "Epoch 7/100\n",
            "3597/3597 [==============================] - 6s 2ms/step - loss: 0.5166 - val_loss: 0.2056\n",
            "Epoch 8/100\n",
            "3597/3597 [==============================] - 6s 2ms/step - loss: 0.5093 - val_loss: 0.2034\n",
            "Epoch 9/100\n",
            "3597/3597 [==============================] - 6s 2ms/step - loss: 0.5008 - val_loss: 0.2032\n",
            "Epoch 10/100\n",
            "3597/3597 [==============================] - 6s 2ms/step - loss: 0.5255 - val_loss: 0.2053\n",
            "Epoch 11/100\n",
            "3597/3597 [==============================] - 8s 2ms/step - loss: 0.5055 - val_loss: 0.2074\n",
            "Epoch 12/100\n",
            "3597/3597 [==============================] - 7s 2ms/step - loss: 0.5199 - val_loss: 0.2114\n",
            "Epoch 13/100\n",
            "3597/3597 [==============================] - 6s 2ms/step - loss: 0.4919 - val_loss: 0.2087\n",
            "Epoch 14/100\n",
            "3597/3597 [==============================] - 6s 2ms/step - loss: 0.5115 - val_loss: 0.2208\n",
            "Epoch 15/100\n",
            "3597/3597 [==============================] - 6s 2ms/step - loss: 0.5244 - val_loss: 0.2051\n",
            "Epoch 16/100\n",
            "3597/3597 [==============================] - 6s 2ms/step - loss: 0.4939 - val_loss: 0.2062\n",
            "Epoch 17/100\n",
            "3597/3597 [==============================] - 6s 2ms/step - loss: 0.5099 - val_loss: 0.2078\n",
            "Epoch 18/100\n",
            "3597/3597 [==============================] - 6s 2ms/step - loss: 0.4996 - val_loss: 0.2076\n",
            "Epoch 19/100\n",
            "3597/3597 [==============================] - 6s 2ms/step - loss: 0.4718 - val_loss: 0.2049\n"
          ],
          "name": "stdout"
        },
        {
          "output_type": "execute_result",
          "data": {
            "text/plain": [
              "<tensorflow.python.keras.callbacks.History at 0x7fd5f27b4588>"
            ]
          },
          "metadata": {
            "tags": []
          },
          "execution_count": 112
        }
      ]
    },
    {
      "cell_type": "code",
      "metadata": {
        "colab_type": "code",
        "id": "MwgU821JJirk",
        "colab": {}
      },
      "source": [
        "predictions = model.predict_classes(X_test)"
      ],
      "execution_count": 113,
      "outputs": []
    },
    {
      "cell_type": "markdown",
      "metadata": {
        "colab_type": "text",
        "id": "xBp2x9tZJirn"
      },
      "source": [
        "Checking the results of predictions"
      ]
    },
    {
      "cell_type": "code",
      "metadata": {
        "colab_type": "code",
        "id": "6N1QEv6rJirn",
        "colab": {
          "base_uri": "https://localhost:8080/",
          "height": 212
        },
        "outputId": "3f06f574-f409-4d97-d2f1-958287e520e2"
      },
      "source": [
        "print(confusion_matrix(y_test,predictions))\n",
        "print( classification_report(y_test, predictions))"
      ],
      "execution_count": 116,
      "outputs": [
        {
          "output_type": "stream",
          "text": [
            "[[10904    41]\n",
            " [ 1217   171]]\n",
            "              precision    recall  f1-score   support\n",
            "\n",
            "           0       0.90      1.00      0.95     10945\n",
            "           1       0.81      0.12      0.21      1388\n",
            "\n",
            "    accuracy                           0.90     12333\n",
            "   macro avg       0.85      0.56      0.58     12333\n",
            "weighted avg       0.89      0.90      0.86     12333\n",
            "\n"
          ],
          "name": "stdout"
        }
      ]
    },
    {
      "cell_type": "markdown",
      "metadata": {
        "id": "Dt3gd4s2kOHK",
        "colab_type": "text"
      },
      "source": [
        "Now the results are much better especially for values 1 "
      ]
    },
    {
      "cell_type": "markdown",
      "metadata": {
        "id": "Aa-iLdr9Gqnx",
        "colab_type": "text"
      },
      "source": [
        "Input variables:\n",
        "# bank client data:\n",
        "1 - age (numeric)\n",
        "2 - job : type of job (categorical: 'admin.','blue-collar','entrepreneur','housemaid','management','retired','self-employed','services','student','technician','unemployed','unknown')\n",
        "3 - marital : marital status (categorical: 'divorced','married','single','unknown'; note: 'divorced' means divorced or widowed)\n",
        "4 - education (categorical: 'basic.4y','basic.6y','basic.9y','high.school','illiterate','professional.course','university.degree','unknown')\n",
        "5 - default: has credit in default? (categorical: 'no','yes','unknown')\n",
        "6 - housing: has housing loan? (categorical: 'no','yes','unknown')\n",
        "7 - loan: has personal loan? (categorical: 'no','yes','unknown')\n",
        "# related with the last contact of the current campaign:\n",
        "8 - contact: contact communication type (categorical: 'cellular','telephone')\n",
        "9 - month: last contact month of year (categorical: 'jan', 'feb', 'mar', ..., 'nov', 'dec')\n",
        "10 - day_of_week: last contact day of the week (categorical: 'mon','tue','wed','thu','fri')\n",
        "11 - duration: last contact duration, in seconds (numeric). Important note: this attribute highly affects the output target (e.g., if duration=0 then y='no'). Yet, the duration is not known before a call is performed. Also, after the end of the call y is obviously known. Thus, this input should only be included for benchmark purposes and should be discarded if the intention is to have a realistic predictive model.\n",
        "# other attributes:\n",
        "12 - campaign: number of contacts performed during this campaign and for this client (numeric, includes last contact)\n",
        "13 - pdays: number of days that passed by after the client was last contacted from a previous campaign (numeric; 999 means client was not previously contacted)\n",
        "14 - previous: number of contacts performed before this campaign and for this client (numeric)\n",
        "15 - poutcome: outcome of the previous marketing campaign (categorical: 'failure','nonexistent','success')\n",
        "# social and economic context attributes\n",
        "16 - emp.var.rate: employment variation rate - quarterly indicator (numeric)\n",
        "17 - cons.price.idx: consumer price index - monthly indicator (numeric)\n",
        "18 - cons.conf.idx: consumer confidence index - monthly indicator (numeric)\n",
        "19 - euribor3m: euribor 3 month rate - daily indicator (numeric)\n",
        "20 - nr.employed: number of employees - quarterly indicator (numeric)\n",
        "\n",
        "Output variable (desired target):\n",
        "21 - y - has the client subscribed a term deposit? (binary: 'yes','no')  "
      ]
    }
  ]
}